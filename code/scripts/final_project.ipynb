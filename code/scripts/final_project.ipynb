{
 "nbformat": 4,
 "nbformat_minor": 2,
 "metadata": {
  "language_info": {
   "name": "python",
   "codemirror_mode": {
    "name": "ipython",
    "version": 3
   },
   "version": "3.7.5-final"
  },
  "orig_nbformat": 2,
  "file_extension": ".py",
  "mimetype": "text/x-python",
  "name": "python",
  "npconvert_exporter": "python",
  "pygments_lexer": "ipython3",
  "version": 3,
  "kernelspec": {
   "name": "python37564bit8ef63aba3f24491db99035316b265dfd",
   "display_name": "Python 3.7.5 64-bit"
  }
 },
 "cells": [
  {
   "cell_type": "code",
   "execution_count": 16,
   "metadata": {},
   "outputs": [
    {
     "name": "stdout",
     "output_type": "stream",
     "text": "['What is the Turing Test?', 'The original Turing test involved three entities communicating with each other through computer terminals in separate rooms - a computer program trying to pass itself off as a human, a human trying to prove that she or he is human, and a human judge deciding which of the competitors is human and which a machine. This is different from the popular idea that it\\'s about a human judging whether one subject is human or machine. The reason it\\'s different is that Turing\\'s original proposal was not intended as a practical test, but rather as a thought experiment making a philosophical argument - that it is impossible to determine whether something is \"intelligent\" better than by judging its linguistic interactions, and that therefore a machine that sounds intelligent has to be considered truly intelligent. And by \"intelligent,\" Turing meant, like a human, with consciousness.', 'Which of the following is NOT an objection to the Turing Test mentioned in the reading?', 'Intelligence is not the same thing as consciousness.', 'Many human beings might not pass the Turing test.|||Language is not necessarily the only way to demonstrate high intelligence.|||Cognitive ability is cognitive ability whether demonstrated through behavior or not.', 'The Turing Test web page||document||N/A|||The Turing test paragraph from Stanford Encyclopedia of Philosophy||image||N/A']\n \n['Turing test', 'Alan Turing', 'Computational linguistics', 'Language philosophy', 'Artificial Intelligence', 'Philosophy of artificial intelligence']\n"
    }
   ],
   "source": [
    "data = [i.strip('\\n').split('\\t') for i in open('/Users/Diego/Documents/School/ISTA539/final-project-dalcantara7/openclass_prize.train')]\n",
    "print(data[0])\n",
    "print(\" \")\n",
    "print(data[1])"
   ]
  },
  {
   "cell_type": "code",
   "execution_count": 18,
   "metadata": {},
   "outputs": [
    {
     "name": "stdout",
     "output_type": "stream",
     "text": "['What is the Turing Test? The original Turing test involved three entities communicating with each other through computer terminals in separate rooms - a computer program trying to pass itself off as a human, a human trying to prove that she or he is human, and a human judge deciding which of the competitors is human and which a machine. This is different from the popular idea that it\\'s about a human judging whether one subject is human or machine. The reason it\\'s different is that Turing\\'s original proposal was not intended as a practical test, but rather as a thought experiment making a philosophical argument - that it is impossible to determine whether something is \"intelligent\" better than by judging its linguistic interactions, and that therefore a machine that sounds intelligent has to be considered truly intelligent. And by \"intelligent,\" Turing meant, like a human, with consciousness. Which of the following is NOT an objection to the Turing Test mentioned in the reading? Intelligence is not the same thing as consciousness. Many human beings might not pass the Turing test.|||Language is not necessarily the only way to demonstrate high intelligence.|||Cognitive ability is cognitive ability whether demonstrated through behavior or not. The Turing Test web page||document||N/A|||The Turing test paragraph from Stanford Encyclopedia of Philosophy||image||N/A', 'What is inflectional morphology? Inflectional morphology is when we have a change in word form, for example \"perform\" and \"performed.\" What is the difference between inflectional and derivational morphology? Derivational morphology is where we have a new word. One is part of micro- and the other is part of macro-linguistics.|||Inflectional morphology means the suffix changes.|||Derivational morphology is where morphemes are derived from phonemes. Inflection in Morphology presentation||slides||Inflection Bayu Jaka Magistra 180120130006 Indah  Mustika S. M . 180120130003  Inflection  Inflection  What is Inflection ?  Regular  & Irregular  Inflection  Forms of Nouns   Forms of Pronouns  & Determiners  Forms of Verbs  Forms of Adjectives   `   What is Inflection ?  What is Inflection?  1. The pianist performs in the local café  every month. 2. The pianist performed in the local café last night.  3. The performance was extraordinary.  What is Inflection? 1. The pianist performs in the local café  every month. 2. The pianist performed in the local café last night.  3. The performance was extraordinary.  What is Inflection? 1. The pianist  performs in the local café  every month. 2. The pianist  performed in the local café last night.  3. The  performance was extraordinary.  The words performs, performed & performance belong to the same root which is perform .  However, the word performs & performed in sentence ( 1 ) & ( 2 ) belong to the same word class i . e . verb .  The word Performance in sentence ( 3 ) , on the other hand, belongs to the different word class i . e . noun .  What is Inflection? 1. The pianist  performs in the local café  every month. 2. The pianist  performed in the local café last night.   What happens in sentence ( 1 ) and ( 2 ) is the process of word formation called inflection .  Inflection does not change the word class (parts of speech) and meaning of a word  Instead, Inflection is grammatically conditioned (McCarthy, 2002 ), or expresses grammatical categories like tense, mood, voice, aspect, person, number, gender and case . 1 1  Inflection . (2013, September 12).  Retrieved November 24, 2013,  from www.wikipedia.org : http://en.wikipedia.org/wiki/Inflection  What is Inflection? 1. The pianist  performs in the local café  every month. 2. The pianist  performed in the local café last night.  Grammatically condition or expresses grammatical categories like  tense, mood, voice, aspect, person, number, gender and case.  In sentence ( 1 ) the suffix - s is added to the root because of being grammatically conditioned by third - person singular subject the pianist .  In sentence ( 2 ) the suffix - ed is added to the root to express past tense .  What is Inflection? 3. The  performance was extraordinary.  What happens in sentence ( 3 ), on the other hand, is the process of word formation called derivation .  Derivation is the process of  new words by adding affixes to existing words .  ( Trask , 2007 ) .  Derivation changes the word class and/or meaning of the root .  What is Inflection? ROOT  Word class  Meaning Inflection Variants Variants Variants  What is Inflection? PERFORM  Verb  To execute Inflection Perform s Perform ing Perform ed  The variants still  belong to the  same word class  (verb), and have  the same  meaning  However, they are  grammatically  conditioned, or  express certain  grammatical  category grammatically  conditioned by third - person singular  subject Expressing continuous  and progressive  aspects Expressing past tense  What is Inflection? PERFORM  Verb  To execute Perform ance  Noun  The act of  performing Perform er  Noun  One who  performs Inflection Inflection Perform ance s Plural Perform er s Plural  Regular & Irregular Inflection Cats Guitars Hats Tables  Chairs Doors Windows  Regular & Irregular Inflection Cat s Guitar s Hat s Table s Chair s Door s Window s  Regular & Irregular Inflection Cat s Guitar s Hat s Table s Chair s Door s Window s  Adding suffix - s to a noun root is the regular method of forming plural .  Regular & Irregular Inflection Mice Children Women Teeth Oxen Men Knives are irregular plural forms of  Mouse Child Woman Tooth Ox Man Knife are allomorphs of   Regular & Irregular Inflection Went Better Worse are irregular inflection forms of  Go Good Bad Allomorphs ???  Regular & Irregular Inflection Went Better Worse Suppletion of  Go Good Bad Suppletion  Regular & Irregular Inflection Suppletion vs. Allomorph Allomorph Mice Children Women Teeth Oxen Men Knives Root Mouse Child Woman Tooth Ox Man Knife  Regular & Irregular Inflection Suppletion vs. Allomorph Allomorph M i ce Child ren Wom e n T ee th Ox en M e n Kni ves Root M ou se Child Wom a n T oo th Ox M a n Kni fe An allomorph has similar  phoneme(s) as its root  Regular & Irregular Inflection Suppletion vs. Allomorph Root Went Better Worse Suppletion Go Good Bad Suppletion and its root  does not have any similar  phoneme.  Forms of Nouns  Inflection in nouns expresses  grammatical category which is number.  Regular forms (adding the suffix  - s)  Irregular forms (Allophones, zero suffix  like  deer, fish, sheep )   4.4 Forms of Pronouns And  Determiners Open classes :  Nouns, Adjectives, Verbs,   Adverbs Determiners:  nouns , display a singular - plural  contrast  P ro - nouns  combine a singular - plural contrast  with contrast unique to them, between  subject and non - subject forms.   T he  distinction between this and  these.  These  are the singular and plural forms of the  determinest lexeme  this.  The  determiners THAT and THIS demonstrate  that number contrasts can have a grammatical  effect inside noun phrase as well as between  subject noun phrases and their accompanying  verbs.   In English, the same technique is used for one  small closed class of lexemes, namely personal  pronouns.  If  one replaces John and Mary with the  appropriate pronouns in these two examples,  the outcome is as in: 1. He  loves her. 2. She  loves him.   He and him are sometimes said to contrast in  case. 1. He belonging to the nominative  case 2. H im belonging to the accusative case .  It  is striking that the relationship between  nominative and accusative forms is  consistently  suppletive . >>  I/me, she/her, we/us, and they/them.    Corresponding words with a possessive  meaning: his and our, as well as my, her, your  and their.  Syntactically and semantically, these words  fulfill just the same role as noun phrases with  the apostrophe - s: 1.  His bicycle  means the bicycle belonging   to him. 2.   bicycle means the bicycle  belonging to that man.  4.5 Forms of  Verbs  In English, a verb lexeme has at most five distinct  forms, as illustrated here with GIVE .  Third person singular present tense e.g . Marry  gives a lecture every year.  Past tense e.g . Marry  gave a lecture last week.  Progressive participle e.g . Mary is  giving a lecture today.  Perfect or passive participle e.g . Mary has  given a lecture today.  Basic form (used everywhere else) e.g Mary wants to  give a lecture.  4.6  Forms of  Adjectives  Many  English adjectives exhibit three forms,  for example GREEN here: 1. Grass  is  green . 2. The  grass is  greener now than in winter. 3. The  grass is  greenest in early summer.  Other adjectives with  similar forms: Positive Comprative Superlative Happy happier happiest Long longer longest Pure purer purest Untidy untidier untidiest Good better best All  these exhibit a regular pattern of suffixation with   er and   est , except for better and best, which are  suppletive .', 'What English sentence could represent the following set of first order logic expressions? The answer is “What game do you want to play with me today?” Which of the following expressions could belong in an FOL representation of, â\\x80\\x9cWhat do you want to play with?â\\x80\\x9d with(play, $qvar) play(want, $qvar)|||want(play, $qvar)|||play(with, $qvar) NONE']\n \n[['Turing test', 'Alan Turing', 'Computational linguistics', 'Language philosophy', 'Artificial Intelligence', 'Philosophy of artificial intelligence'], ['Inflectional morphology', 'Inflection', 'Derivational morphology', 'Morphology', 'Macrolinguistics'], ['First-order logic', 'Predicate logic', 'Semantics', 'Sentence analysis'], ['Logistic regression', 'Text classification', 'Binary classification', 'Natural Language Processing (NLP)'], ['Naive Bayes', 'Text classification', 'Binary Naive Bayes (NB)', 'Sentiment analysis']]\n"
    }
   ],
   "source": [
    "X = []\n",
    "Y = []\n",
    "for i in range(len(data)):\n",
    "    if i % 2 == 0:\n",
    "        X.append(' '.join(data[i]))\n",
    "    else:\n",
    "        Y.append(data[i])\n",
    "\n",
    "print(X[0:3])\n",
    "print(\" \")\n",
    "print(Y[0:5])"
   ]
  },
  {
   "cell_type": "code",
   "execution_count": 29,
   "metadata": {},
   "outputs": [],
   "source": [
    "from nltk.stem.snowball import SnowballStemmer\n",
    "import re\n",
    "\n",
    "def clean_data(dataset):\n",
    "    clean_data = []\n",
    "    sno = SnowballStemmer('english')\n",
    "\n",
    "    for entry in dataset:\n",
    "        lowered = entry.lower()\n",
    "        sans_special_chars = re.sub(r'\\W',' ', lowered)\n",
    "        sans_extra_spaces = re.sub(r'\\s+',' ', sans_special_chars)\n",
    "        sans_underscore = sans_extra_spaces.replace('_', ' ')\n",
    "        split = sans_underscore.split()\n",
    "        stemmed = ' '.join([sno.stem(word) for word in split])\n",
    "        clean_data.append(stemmed)\n",
    "\n",
    "    return clean_data"
   ]
  },
  {
   "cell_type": "code",
   "execution_count": 30,
   "metadata": {},
   "outputs": [
    {
     "name": "stdout",
     "output_type": "stream",
     "text": "['what is the ture test the origin ture test involv three entiti communic with each other through comput termin in separ room a comput program tri to pass itself off as a human a human tri to prove that she or he is human and a human judg decid which of the competitor is human and which a machin this is differ from the popular idea that it s about a human judg whether one subject is human or machin the reason it s differ is that ture s origin propos was not intend as a practic test but rather as a thought experi make a philosoph argument that it is imposs to determin whether someth is intellig better than by judg it linguist interact and that therefor a machin that sound intellig has to be consid truli intellig and by intellig ture meant like a human with conscious which of the follow is not an object to the ture test mention in the read intellig is not the same thing as conscious mani human be might not pass the ture test languag is not necessarili the onli way to demonstr high intellig cognit abil is cognit abil whether demonstr through behavior or not the ture test web page document n a the ture test paragraph from stanford encyclopedia of philosophi imag n a', 'what is inflect morpholog inflect morpholog is when we have a chang in word form for exampl perform and perform what is the differ between inflect and deriv morpholog deriv morpholog is where we have a new word one is part of micro and the other is part of macro linguist inflect morpholog mean the suffix chang deriv morpholog is where morphem are deriv from phonem inflect in morpholog present slide inflect bayu jaka magistra 180120130006 indah mustika s m 180120130003 inflect inflect what is inflect regular irregular inflect form of noun form of pronoun determin form of verb form of adject what is inflect what is inflect 1 the pianist perform in the local café everi month 2 the pianist perform in the local café last night 3 the perform was extraordinari what is inflect 1 the pianist perform in the local café everi month 2 the pianist perform in the local café last night 3 the perform was extraordinari what is inflect 1 the pianist perform in the local café everi month 2 the pianist perform in the local café last night 3 the perform was extraordinari the word perform perform perform belong to the same root which is perform howev the word perform perform in sentenc 1 2 belong to the same word class i e verb the word perform in sentenc 3 on the other hand belong to the differ word class i e noun what is inflect 1 the pianist perform in the local café everi month 2 the pianist perform in the local café last night what happen in sentenc 1 and 2 is the process of word format call inflect inflect doe not chang the word class part of speech and mean of a word instead inflect is grammat condit mccarthi 2002 or express grammat categori like tens mood voic aspect person number gender and case 1 1 inflect 2013 septemb 12 retriev novemb 24 2013 from www wikipedia org http en wikipedia org wiki inflect what is inflect 1 the pianist perform in the local café everi month 2 the pianist perform in the local café last night grammat condit or express grammat categori like tens mood voic aspect person number gender and case in sentenc 1 the suffix s is ad to the root becaus of be grammat condit by third person singular subject the pianist in sentenc 2 the suffix ed is ad to the root to express past tens what is inflect 3 the perform was extraordinari what happen in sentenc 3 on the other hand is the process of word format call deriv deriv is the process of new word by ad affix to exist word trask 2007 deriv chang the word class and or mean of the root what is inflect root word class mean inflect variant variant variant what is inflect perform verb to execut inflect perform s perform ing perform ed the variant still belong to the same word class verb and have the same mean howev they are grammat condit or express certain grammat categori grammat condit by third person singular subject express continu and progress aspect express past tens what is inflect perform verb to execut perform anc noun the act of perform perform er noun one who perform inflect inflect perform anc s plural perform er s plural regular irregular inflect cat guitar hat tabl chair door window regular irregular inflect cat s guitar s hat s tabl s chair s door s window s regular irregular inflect cat s guitar s hat s tabl s chair s door s window s ad suffix s to a noun root is the regular method of form plural regular irregular inflect mice children women teeth oxen men knive are irregular plural form of mous child woman tooth ox man knife are allomorph of regular irregular inflect went better wors are irregular inflect form of go good bad allomorph regular irregular inflect went better wors supplet of go good bad supplet regular irregular inflect supplet vs allomorph allomorph mice children women teeth oxen men knive root mous child woman tooth ox man knife regular irregular inflect supplet vs allomorph allomorph m i ce child ren wom e n t ee th ox en m e n kni ves root m ou se child wom a n t oo th ox m a n kni fe an allomorph has similar phonem s as it root regular irregular inflect supplet vs allomorph root went better wors supplet go good bad supplet and it root doe not have ani similar phonem form of noun inflect in noun express grammat categori which is number regular form ad the suffix s irregular form allophon zero suffix like deer fish sheep 4 4 form of pronoun and determin open class noun adject verb adverb determin noun display a singular plural contrast p ro noun combin a singular plural contrast with contrast uniqu to them between subject and non subject form t he distinct between this and these these are the singular and plural form of the determinest lexem this the determin that and this demonstr that number contrast can have a grammat effect insid noun phrase as well as between subject noun phrase and their accompani verb in english the same techniqu is use for one small close class of lexem name person pronoun if one replac john and mari with the appropri pronoun in these two exampl the outcom is as in 1 he love her 2 she love him he and him are sometim said to contrast in case 1 he belong to the nomin case 2 h im belong to the accus case it is strike that the relationship between nomin and accus form is consist supplet i me she her we us and they them correspond word with a possess mean his and our as well as my her your and their syntact and semant these word fulfil just the same role as noun phrase with the apostroph s 1 his bicycl mean the bicycl belong to him 2 bicycl mean the bicycl belong to that man 4 5 form of verb in english a verb lexem has at most five distinct form as illustr here with give third person singular present tens e g marri give a lectur everi year past tens e g marri gave a lectur last week progress participl e g mari is give a lectur today perfect or passiv participl e g mari has given a lectur today basic form use everywher els e g mari want to give a lectur 4 6 form of adject mani english adject exhibit three form for exampl green here 1 grass is green 2 the grass is greener now than in winter 3 the grass is greenest in earli summer other adject with similar form posit comprat superl happi happier happiest long longer longest pure purer purest untidi untidi untidiest good better best all these exhibit a regular pattern of suffix with er and est except for better and best which are supplet', 'what english sentenc could repres the follow set of first order logic express the answer is what game do you want to play with me today which of the follow express could belong in an fol represent of â what do you want to play with â with play qvar play want qvar want play qvar play with qvar none']\n"
    }
   ],
   "source": [
    "clean_X = clean_data(X)\n",
    "print(clean_X[0:3])"
   ]
  },
  {
   "cell_type": "code",
   "execution_count": 31,
   "metadata": {},
   "outputs": [
    {
     "name": "stdout",
     "output_type": "stream",
     "text": "Length of X:  163\nLength of Y:  163\nLength of X_train:  130\nLength of Y_train:  130\n"
    }
   ],
   "source": [
    "from sklearn.model_selection import train_test_split\n",
    "\n",
    "X_train, X_test, Y_train, Y_test = train_test_split(X, Y, test_size=0.2)\n",
    "print(\"Length of X: \", len(X))\n",
    "print(\"Length of Y: \", len(Y))\n",
    "print(\"Length of X_train: \", len(X_train))\n",
    "print(\"Length of Y_train: \", len(Y_train))"
   ]
  },
  {
   "cell_type": "code",
   "execution_count": 34,
   "metadata": {},
   "outputs": [
    {
     "name": "stdout",
     "output_type": "stream",
     "text": "Train Data:  [[  51   12   52 ...    0    0    0]\n [1102 2689   29 ...    0    0    0]\n [ 384    1  301 ...    0    0    0]]\nTest Data:  [[  51    7    4 ...    0    0    0]\n [  51    7    4 ...    0    0    0]\n [  51    7 1128 ...    0    0    0]]\n"
    }
   ],
   "source": [
    "from keras.preprocessing.text import Tokenizer\n",
    "import keras.preprocessing.sequence as kps\n",
    "NUM_WORDS = 120000\n",
    "\n",
    "tokenizer = Tokenizer(num_words=NUM_WORDS)\n",
    "tokenizer.fit_on_texts(X_train)\n",
    "\n",
    "train_indices = tokenizer.texts_to_sequences(X_train)\n",
    "word_index = tokenizer.word_index\n",
    "train_indices = kps.pad_sequences(train_indices, padding='post')\n",
    "\n",
    "test_indices = tokenizer.texts_to_sequences(X_test)\n",
    "test_indices = kps.pad_sequences(test_indices, padding='post', maxlen=len(train_indices[0]))\n",
    "\n",
    "print(\"Train Data: \", train_indices[0:3])\n",
    "print(\"Test Data: \", test_indices[0:3])"
   ]
  },
  {
   "cell_type": "code",
   "execution_count": null,
   "metadata": {},
   "outputs": [],
   "source": [
    "from keras import models, layers\n",
    "EMBEDDING_DIM = 300\n",
    "embeddings_index = {}\n",
    "\n",
    "f = open(\"graduate-project-dalcantara7/glove.twitter.27B/glove.twitter.27B.200d.txt\")\n",
    "for line in f:\n",
    "    values = line.split()\n",
    "    word = values[0]\n",
    "    coefs = np.asarray(values[1:], dtype='float32')\n",
    "    embeddings_index[word] = coefs\n",
    "f.close()\n",
    "embedding_matrix = np.zeros((len(word_index) + 1, EMBEDDING_DIM))\n",
    "for word, i in word_index.items():\n",
    "    embedding_vector = embeddings_index.get(word)\n",
    "    if embedding_vector is not None:\n",
    "        # words not found in embedding index will be all-zeros.\n",
    "        embedding_matrix[i] = embedding_vector\n",
    "\n",
    "embedding_layer = layers.Embedding(len(word_index) + 1,\n",
    "                        EMBEDDING_DIM,\n",
    "                        weights=[embedding_matrix],\n",
    "                        input_length=len(train_indices[0]),\n",
    "                        trainable=True,\n",
    "                        mask_zero=True)"
   ]
  },
  {
   "cell_type": "code",
   "execution_count": 37,
   "metadata": {},
   "outputs": [
    {
     "name": "stdout",
     "output_type": "stream",
     "text": "716\n"
    }
   ],
   "source": [
    "flat_Y = [item for sublist in Y for item in sublist]\n",
    "print(len(flat_Y))"
   ]
  },
  {
   "cell_type": "code",
   "execution_count": null,
   "metadata": {},
   "outputs": [],
   "source": []
  }
 ]
}