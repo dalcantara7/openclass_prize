{
 "nbformat": 4,
 "nbformat_minor": 2,
 "metadata": {
  "language_info": {
   "name": "python",
   "codemirror_mode": {
    "name": "ipython",
    "version": 3
   }
  },
  "orig_nbformat": 2,
  "file_extension": ".py",
  "mimetype": "text/x-python",
  "name": "python",
  "npconvert_exporter": "python",
  "pygments_lexer": "ipython3",
  "version": 3
 },
 "cells": [
  {
   "cell_type": "code",
   "execution_count": null,
   "metadata": {},
   "outputs": [],
   "source": [
    "from sklearn.model_selection import train_test_split\n",
    "\n",
    "\n",
    "\n",
    "# gets the training and test file names from the command line\n",
    "parser = argparse.ArgumentParser()\n",
    "parser.add_argument(\"train\", nargs='?', default=\"graduate-project-dalcantara7/2018-E-c-En-train.txt\")\n",
    "parser.add_argument(\"test\", nargs='?', default=\"graduate-project-dalcantara7/2018-E-c-En-test.txt\")\n",
    "args = parser.parse_args()\n",
    "\n",
    "# reads train and dev data into Pandas data frames\n",
    "read_csv_kwargs = dict(sep=\"\\t\",\n",
    "                        converters={e: emotion_to_int.get for e in emotions})\n",
    "train_data = pd.read_csv(args.train, **read_csv_kwargs)\n",
    "test_data = pd.read_csv(args.test, **read_csv_kwargs)\n",
    "\n",
    "clean_tweets(train_data['Tweet'], test_data['Tweet'])\n",
    "\n",
    "train_word_indices, test_word_indices, embedding_layer = preprocess_data(train_data, test_data)\n",
    "\n",
    "train_labels = np.asarray(train_data.iloc[:,2:13]) # get labels\n",
    "test_labels = np.asarray(test_data.iloc[:,2:13]) # get labels\n",
    "\n",
    "# makes predictions on the dev set\n",
    "test_predictions = train_and_predict(train_word_indices, train_labels, test_word_indices, test_labels, NUM_WORDS, test_data, embedding_layer)\n",
    "\n",
    "# prints out multi-label accuracy\n",
    "print(\"accuracy: {:.3f}\".format(sklearn.metrics.jaccard_similarity_score(\n",
    "    test_data[emotions], test_predictions[emotions])))\n",
    "\n",
    "# saves predictions and creates submission zip file\n",
    "test_predictions.to_csv(\"graduate-project-dalcantara7/E-C_en_pred.txt\", sep=\"\\t\", index=False)\n",
    "with zipfile.ZipFile('graduate-project-dalcantara7/submission.zip', mode='w') as submission_zip:\n",
    "    submission_zip.write(\"graduate-project-dalcantara7/E-C_en_pred.txt\")\n"
   ]
  }
 ]
}